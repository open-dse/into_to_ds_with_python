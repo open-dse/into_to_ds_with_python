{
 "cells": [
  {
   "cell_type": "code",
   "execution_count": 195,
   "metadata": {},
   "outputs": [],
   "source": [
    "import pandas as pd\n",
    "import matplotlib.pyplot as plt\n",
    "import seaborn as sns\n",
    "%matplotlib inline \n",
    "\n",
    "\n",
    "from sklearn.model_selection import train_test_split\n",
    "from sklearn.linear_model import LinearRegression, Ridge, Lasso\n",
    "from sklearn.metrics import mean_squared_error, r2_score\n",
    "from sklearn.neighbors import KNeighborsRegressor\n",
    "from sklearn.tree import DecisionTreeRegressor\n",
    "from sklearn.ensemble import RandomForestRegressor"
   ]
  },
  {
   "cell_type": "markdown",
   "metadata": {},
   "source": [
    "## Load data\n",
    "\n",
    "- Dataset Description: https://www4.stat.ncsu.edu/~boos/var.select/diabetes.html"
   ]
  },
  {
   "cell_type": "code",
   "execution_count": 180,
   "metadata": {},
   "outputs": [],
   "source": [
    "diabetes_df = pd.read_csv('../../../Datasets/diabetes.txt', delimiter='\\t')"
   ]
  },
  {
   "cell_type": "code",
   "execution_count": 181,
   "metadata": {},
   "outputs": [
    {
     "data": {
      "text/plain": [
       "Index(['AGE', 'SEX', 'BMI', 'BP', 'S1', 'S2', 'S3', 'S4', 'S5', 'S6', 'Y'], dtype='object')"
      ]
     },
     "execution_count": 181,
     "metadata": {},
     "output_type": "execute_result"
    }
   ],
   "source": [
    "diabetes_df.columns"
   ]
  },
  {
   "cell_type": "code",
   "execution_count": 182,
   "metadata": {},
   "outputs": [
    {
     "data": {
      "image/png": "[encoded data removed]",
      "text/plain": [
       "<Figure size 432x288 with 1 Axes>"
      ]
     },
     "metadata": {},
     "output_type": "display_data"
    }
   ],
   "source": [
    "diabetes_df.plot(kind='scatter', x='AGE', y='BP')\n",
    "plt.show()"
   ]
  },
  {
   "cell_type": "code",
   "execution_count": 206,
   "metadata": {},
   "outputs": [
    {
     "data": {
      "text/plain": [
       "(442, 11)"
      ]
     },
     "execution_count": 206,
     "metadata": {},
     "output_type": "execute_result"
    }
   ],
   "source": [
    "diabetes_df.shape"
   ]
  },
  {
   "cell_type": "code",
   "execution_count": 219,
   "metadata": {},
   "outputs": [
    {
     "name": "stdout",
     "output_type": "stream",
     "text": [
      "(397, 9) (397, 1) (45, 9) (45, 1)\n"
     ]
    }
   ],
   "source": [
    "# let's predict BP from AGE\n",
    "x_train, x_test, y_train, y_test = train_test_split(diabetes_df[['AGE', 'SEX', 'BMI', 'S1', 'S2', 'S3', 'S4', 'S5', 'S6']], diabetes_df[['BP']], test_size=0.1, random_state=2018)\n",
    "print(x_train.shape, y_train.shape, x_test.shape, y_test.shape)"
   ]
  },
  {
   "cell_type": "markdown",
   "metadata": {},
   "source": [
    "## Simple Linear Regression\n",
    "\n",
    "- link: https://en.wikipedia.org/wiki/Simple_linear_regression"
   ]
  },
  {
   "cell_type": "code",
   "execution_count": 220,
   "metadata": {},
   "outputs": [
    {
     "name": "stdout",
     "output_type": "stream",
     "text": [
      "Coefficients: \n",
      " [[ 0.18244846  4.53119284  0.76888844  0.1229513  -0.08345719 -0.15997197\n",
      "  -2.15921383  3.02465792  0.19040928]]\n",
      "Train stats: \n",
      "\tmean squared error: 127.70330782174558\n",
      "\tvariance score: 0.32663361856188255\n",
      "Test stats: \n",
      "\tmean squared error: 159.86910708270102\n",
      "\tvariance score: 0.20360854516971927\n"
     ]
    }
   ],
   "source": [
    "# initialize linear regression object\n",
    "lr = LinearRegression(fit_intercept=True)\n",
    "\n",
    "# fit data to the model\n",
    "lr.fit(x_train, y_train)\n",
    "\n",
    "# make prediction\n",
    "predicted_train = lr.predict(x_train)\n",
    "predicted_test  = lr.predict(x_test)\n",
    "\n",
    "print('Coefficients: \\n', lr.coef_)\n",
    "print('Train stats: ')\n",
    "print(\"\\tmean squared error: {}\".format(mean_squared_error(y_true=y_train, y_pred=predicted_train)))\n",
    "print('\\tvariance score: {}'.format(r2_score(y_true=y_train, y_pred=predicted_train)))\n",
    "\n",
    "print('Test stats: ')\n",
    "print(\"\\tmean squared error: {}\".format(mean_squared_error(y_true=y_test, y_pred=predicted_test)))\n",
    "print('\\tvariance score: {}'.format(r2_score(y_true=y_test, y_pred=predicted_test)))\n",
    "\n",
    "\n",
    "# plot outputs\n",
    "# plt.figure(figsize=(10,5))\n",
    "# plt.scatter(x_test, y_test,  color='blue')\n",
    "# plt.plot(x_test, predicted_test, color='red', linewidth=1)\n",
    "# plt.show()"
   ]
  },
  {
   "cell_type": "code",
   "execution_count": 213,
   "metadata": {},
   "outputs": [
    {
     "data": {
      "image/png": "[encoded data removed]",
      "text/plain": [
       "<Figure size 432x288 with 1 Axes>"
      ]
     },
     "metadata": {},
     "output_type": "display_data"
    }
   ],
   "source": [
    "# Plot the residuals after fitting a linear model\n",
    "plt.scatter(predicted_test, predicted_test-y_test)\n",
    "plt.hlines(y=0, xmin=80, xmax=110)\n",
    "plt.show()"
   ]
  },
  {
   "cell_type": "markdown",
   "metadata": {},
   "source": [
    "## Ridge Regression"
   ]
  },
  {
   "cell_type": "code",
   "execution_count": 222,
   "metadata": {},
   "outputs": [
    {
     "name": "stdout",
     "output_type": "stream",
     "text": [
      "Coefficients: \n",
      " [[ 0.18282166  4.50098872  0.76949952  0.12665478 -0.08716232 -0.16378714\n",
      "  -2.14914904  2.89456272  0.19076269]]\n",
      "Train stats: \n",
      "\tmean squared error: 127.70397800443833\n",
      "\tvariance score: 0.3266300847576107\n",
      "Test stats: \n",
      "\tmean squared error: 159.9841825265005\n",
      "\tvariance score: 0.20303529432860912\n"
     ]
    }
   ],
   "source": [
    "# initialize linear regression object\n",
    "ridge_lr = Ridge(fit_intercept=True, alpha=0.5)\n",
    "\n",
    "# fit data to the model\n",
    "ridge_lr.fit(x_train, y_train)\n",
    "\n",
    "# make prediction\n",
    "predicted_train = ridge_lr.predict(x_train)\n",
    "predicted_test  = ridge_lr.predict(x_test)\n",
    "\n",
    "print('Coefficients: \\n', ridge_lr.coef_)\n",
    "print('Train stats: ')\n",
    "print(\"\\tmean squared error: {}\".format(mean_squared_error(y_true=y_train, y_pred=predicted_train)))\n",
    "print('\\tvariance score: {}'.format(r2_score(y_true=y_train, y_pred=predicted_train)))\n",
    "\n",
    "print('Test stats: ')\n",
    "print(\"\\tmean squared error: {}\".format(mean_squared_error(y_true=y_test, y_pred=predicted_test)))\n",
    "print('\\tvariance score: {}'.format(r2_score(y_true=y_test, y_pred=predicted_test)))\n",
    "\n",
    "\n",
    "# plot outputs\n",
    "# plt.figure(figsize=(10,5))\n",
    "# plt.scatter(x_test, y_test,  color='blue')\n",
    "# plt.plot(x_test, predicted_test, color='red', linewidth=1)\n",
    "# plt.show()"
   ]
  },
  {
   "cell_type": "markdown",
   "metadata": {},
   "source": [
    "## Lasso Regression"
   ]
  },
  {
   "cell_type": "code",
   "execution_count": 188,
   "metadata": {},
   "outputs": [
    {
     "name": "stdout",
     "output_type": "stream",
     "text": [
      "Coefficients: \n",
      " [0.36553191]\n",
      "Train stats: \n",
      "\tmean squared error: 166.7475510080217\n",
      "\tvariance score: 0.12075734801898497\n",
      "Test stats: \n",
      "\tmean squared error: 192.9979433371658\n",
      "\tvariance score: 0.03857652251709365\n"
     ]
    },
    {
     "data": {
      "image/png": "[encoded data removed]",
      "text/plain": [
       "<Figure size 720x360 with 1 Axes>"
      ]
     },
     "metadata": {},
     "output_type": "display_data"
    }
   ],
   "source": [
    "# initialize linear regression object\n",
    "lasso_lr = Lasso(fit_intercept=True, alpha=0.5)\n",
    "\n",
    "# fit data to the model\n",
    "lasso_lr.fit(x_train, y_train)\n",
    "\n",
    "# make prediction\n",
    "predicted_train = lasso_lr.predict(x_train)\n",
    "predicted_test  = lasso_lr.predict(x_test)\n",
    "\n",
    "print('Coefficients: \\n', lasso_lr.coef_)\n",
    "print('Train stats: ')\n",
    "print(\"\\tmean squared error: {}\".format(mean_squared_error(y_true=y_train, y_pred=predicted_train)))\n",
    "print('\\tvariance score: {}'.format(r2_score(y_true=y_train, y_pred=predicted_train)))\n",
    "\n",
    "print('Test stats: ')\n",
    "print(\"\\tmean squared error: {}\".format(mean_squared_error(y_true=y_test, y_pred=predicted_test)))\n",
    "print('\\tvariance score: {}'.format(r2_score(y_true=y_test, y_pred=predicted_test)))\n",
    "\n",
    "\n",
    "# plot outputs\n",
    "plt.figure(figsize=(10,5))\n",
    "plt.scatter(x_test, y_test,  color='blue')\n",
    "plt.plot(x_test, predicted_test, color='red', linewidth=1)\n",
    "plt.show()"
   ]
  },
  {
   "cell_type": "markdown",
   "metadata": {},
   "source": [
    "## kNN Regression "
   ]
  },
  {
   "cell_type": "code",
   "execution_count": 226,
   "metadata": {},
   "outputs": [
    {
     "name": "stdout",
     "output_type": "stream",
     "text": [
      "Train stats: \n",
      "\tmean squared error: 139.26931471725442\n",
      "\tvariance score: 0.265647256158583\n",
      "Test stats: \n",
      "\tmean squared error: 182.0038309736111\n",
      "\tvariance score: 0.09334393380468897\n"
     ]
    }
   ],
   "source": [
    "knn_r = KNeighborsRegressor(n_neighbors=40)\n",
    "\n",
    "# fit data to the model\n",
    "knn_r.fit(x_train, y_train)\n",
    "\n",
    "# make prediction\n",
    "predicted_train = knn_r.predict(x_train)\n",
    "predicted_test  = knn_r.predict(x_test)\n",
    "\n",
    "print('Train stats: ')\n",
    "print(\"\\tmean squared error: {}\".format(mean_squared_error(y_true=y_train, y_pred=predicted_train)))\n",
    "print('\\tvariance score: {}'.format(r2_score(y_true=y_train, y_pred=predicted_train)))\n",
    "\n",
    "print('Test stats: ')\n",
    "print(\"\\tmean squared error: {}\".format(mean_squared_error(y_true=y_test, y_pred=predicted_test)))\n",
    "print('\\tvariance score: {}'.format(r2_score(y_true=y_test, y_pred=predicted_test)))"
   ]
  },
  {
   "cell_type": "markdown",
   "metadata": {},
   "source": [
    "## Trees"
   ]
  },
  {
   "cell_type": "code",
   "execution_count": 227,
   "metadata": {},
   "outputs": [
    {
     "name": "stdout",
     "output_type": "stream",
     "text": [
      "Train stats: \n",
      "\tmean squared error: 0.0\n",
      "\tvariance score: 1.0\n",
      "Test stats: \n",
      "\tmean squared error: 379.5539288888889\n",
      "\tvariance score: -0.8907562013091352\n"
     ]
    }
   ],
   "source": [
    "dt_r = DecisionTreeRegressor()\n",
    "\n",
    "# fit data to the model\n",
    "dt_r.fit(x_train, y_train)\n",
    "\n",
    "# make prediction\n",
    "predicted_train = dt_r.predict(x_train)\n",
    "predicted_test  = dt_r.predict(x_test)\n",
    "\n",
    "print('Train stats: ')\n",
    "print(\"\\tmean squared error: {}\".format(mean_squared_error(y_true=y_train, y_pred=predicted_train)))\n",
    "print('\\tvariance score: {}'.format(r2_score(y_true=y_train, y_pred=predicted_train)))\n",
    "\n",
    "print('Test stats: ')\n",
    "print(\"\\tmean squared error: {}\".format(mean_squared_error(y_true=y_test, y_pred=predicted_test)))\n",
    "print('\\tvariance score: {}'.format(r2_score(y_true=y_test, y_pred=predicted_test)))"
   ]
  },
  {
   "cell_type": "code",
   "execution_count": 204,
   "metadata": {},
   "outputs": [
    {
     "name": "stdout",
     "output_type": "stream",
     "text": [
      "Train stats: \n",
      "\tmean squared error: 146.40968762486773\n",
      "\tvariance score: 0.22799680568137437\n",
      "Test stats: \n",
      "\tmean squared error: 240.77323205133393\n",
      "\tvariance score: -0.19941712352441932\n"
     ]
    }
   ],
   "source": [
    "rf_r = RandomForestRegressor(n_estimators=100)\n",
    "\n",
    "# fit data to the model\n",
    "rf_r.fit(x_train, y_train.values.reshape(len(y_train),))\n",
    "\n",
    "# make prediction\n",
    "predicted_train = rf_r.predict(x_train)\n",
    "predicted_test  = rf_r.predict(x_test)\n",
    "\n",
    "print('Train stats: ')\n",
    "print(\"\\tmean squared error: {}\".format(mean_squared_error(y_true=y_train, y_pred=predicted_train)))\n",
    "print('\\tvariance score: {}'.format(r2_score(y_true=y_train, y_pred=predicted_train)))\n",
    "\n",
    "print('Test stats: ')\n",
    "print(\"\\tmean squared error: {}\".format(mean_squared_error(y_true=y_test, y_pred=predicted_test)))\n",
    "print('\\tvariance score: {}'.format(r2_score(y_true=y_test, y_pred=predicted_test)))"
   ]
  }
 ],
 "metadata": {
  "kernelspec": {
   "display_name": "Python 3",
   "language": "python",
   "name": "python3"
  },
  "language_info": {
   "codemirror_mode": {
    "name": "ipython",
    "version": 3
   },
   "file_extension": ".py",
   "mimetype": "text/x-python",
   "name": "python",
   "nbconvert_exporter": "python",
   "pygments_lexer": "ipython3",
   "version": "3.6.5"
  }
 },
 "nbformat": 4,
 "nbformat_minor": 2
}
