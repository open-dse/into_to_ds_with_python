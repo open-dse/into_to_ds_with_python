{
 "cells": [
  {
   "cell_type": "code",
   "execution_count": 1,
   "metadata": {},
   "outputs": [
    {
     "name": "stderr",
     "output_type": "stream",
     "text": [
      "/usr/local/lib/python3.5/dist-packages/h5py/__init__.py:36: FutureWarning: Conversion of the second argument of issubdtype from `float` to `np.floating` is deprecated. In future, it will be treated as `np.float64 == np.dtype(float).type`.\n",
      "  from ._conv import register_converters as _register_converters\n",
      "Using TensorFlow backend.\n"
     ]
    }
   ],
   "source": [
    "# libs\n",
    "import keras\n",
    "from keras.datasets import mnist\n",
    "from keras.models import Sequential\n",
    "from keras.layers import Dense, Dropout, Flatten\n",
    "from keras.layers import Conv2D, MaxPooling2D\n",
    "from keras import backend as K\n",
    "import mlflow"
   ]
  },
  {
   "cell_type": "markdown",
   "metadata": {},
   "source": [
    "## Prepare Data"
   ]
  },
  {
   "cell_type": "code",
   "execution_count": 2,
   "metadata": {},
   "outputs": [
    {
     "name": "stdout",
     "output_type": "stream",
     "text": [
      "x_train shape: (60000, 28, 28, 1)\n",
      "60000 train samples\n",
      "10000 test samples\n"
     ]
    }
   ],
   "source": [
    "# input image dimensions\n",
    "img_rows, img_cols = 28, 28\n",
    "\n",
    "# the data, split between train and test sets\n",
    "(x_train, y_train), (x_test, y_test) = mnist.load_data()\n",
    "\n",
    "if K.image_data_format() == 'channels_first':\n",
    "    x_train = x_train.reshape(x_train.shape[0], 1, img_rows, img_cols)\n",
    "    x_test = x_test.reshape(x_test.shape[0], 1, img_rows, img_cols)\n",
    "    input_shape = (1, img_rows, img_cols)\n",
    "else:\n",
    "    x_train = x_train.reshape(x_train.shape[0], img_rows, img_cols, 1)\n",
    "    x_test = x_test.reshape(x_test.shape[0], img_rows, img_cols, 1)\n",
    "    input_shape = (img_rows, img_cols, 1)\n",
    "\n",
    "x_train = x_train.astype('float32')\n",
    "x_test = x_test.astype('float32')\n",
    "x_train /= 255\n",
    "x_test /= 255\n",
    "print('x_train shape:', x_train.shape)\n",
    "print(x_train.shape[0], 'train samples')\n",
    "print(x_test.shape[0], 'test samples')\n",
    "\n",
    "# convert class vectors to binary class matrices\n",
    "num_classes = 10 \n",
    "y_train = keras.utils.to_categorical(y_train, num_classes)\n",
    "y_test = keras.utils.to_categorical(y_test, num_classes)"
   ]
  },
  {
   "cell_type": "code",
   "execution_count": 4,
   "metadata": {},
   "outputs": [],
   "source": [
    "batch_sizes  = [32, 64, 128]\n",
    "epochs       = [3,  5,  10]\n",
    "dropouts     = [0.1, 0.25, 0.5]"
   ]
  },
  {
   "cell_type": "markdown",
   "metadata": {},
   "source": [
    "## Modeling "
   ]
  },
  {
   "cell_type": "code",
   "execution_count": 8,
   "metadata": {},
   "outputs": [
    {
     "name": "stdout",
     "output_type": "stream",
     "text": [
      "Train on 60000 samples, validate on 10000 samples\n",
      "Epoch 1/3\n",
      "60000/60000 [==============================] - 17s 283us/step - loss: 0.6352 - acc: 0.7860 - val_loss: 0.2927 - val_acc: 0.9107\n",
      "Epoch 2/3\n",
      "60000/60000 [==============================] - 18s 295us/step - loss: 0.4210 - acc: 0.8633 - val_loss: 0.2109 - val_acc: 0.9399\n",
      "Epoch 3/3\n",
      "60000/60000 [==============================] - 17s 290us/step - loss: 0.3498 - acc: 0.8852 - val_loss: 0.1760 - val_acc: 0.9473\n",
      "Test loss: 0.17601574463546277\n",
      "Test accuracy: 0.9473\n",
      "Train on 60000 samples, validate on 10000 samples\n",
      "Epoch 1/5\n",
      "60000/60000 [==============================] - 10s 168us/step - loss: 0.9753 - acc: 0.6526 - val_loss: 0.3451 - val_acc: 0.9139\n",
      "Epoch 2/5\n",
      "60000/60000 [==============================] - 10s 158us/step - loss: 0.6862 - acc: 0.7632 - val_loss: 0.2695 - val_acc: 0.9334\n",
      "Epoch 3/5\n",
      "60000/60000 [==============================] - 10s 160us/step - loss: 0.6105 - acc: 0.7904 - val_loss: 0.2210 - val_acc: 0.9461\n",
      "Epoch 4/5\n",
      "60000/60000 [==============================] - 9s 158us/step - loss: 0.5797 - acc: 0.8019 - val_loss: 0.2103 - val_acc: 0.9478\n",
      "Epoch 5/5\n",
      "60000/60000 [==============================] - 10s 159us/step - loss: 0.5445 - acc: 0.8175 - val_loss: 0.1860 - val_acc: 0.9517\n",
      "Test loss: 0.18601114768981933\n",
      "Test accuracy: 0.9517\n",
      "Train on 60000 samples, validate on 10000 samples\n",
      "Epoch 1/10\n",
      "60000/60000 [==============================] - 7s 125us/step - loss: 1.5002 - acc: 0.4300 - val_loss: 0.6432 - val_acc: 0.8601\n",
      "Epoch 2/10\n",
      "60000/60000 [==============================] - 7s 115us/step - loss: 1.1986 - acc: 0.5335 - val_loss: 0.5161 - val_acc: 0.8924\n",
      "Epoch 3/10\n",
      "60000/60000 [==============================] - 7s 115us/step - loss: 1.1428 - acc: 0.5619 - val_loss: 0.4818 - val_acc: 0.9078\n",
      "Epoch 4/10\n",
      "60000/60000 [==============================] - 7s 114us/step - loss: 1.1129 - acc: 0.5693 - val_loss: 0.4426 - val_acc: 0.9170\n",
      "Epoch 5/10\n",
      "60000/60000 [==============================] - 7s 115us/step - loss: 1.0965 - acc: 0.5748 - val_loss: 0.4117 - val_acc: 0.9219\n",
      "Epoch 6/10\n",
      "60000/60000 [==============================] - 7s 115us/step - loss: 1.0791 - acc: 0.5827 - val_loss: 0.3946 - val_acc: 0.9298\n",
      "Epoch 7/10\n",
      "60000/60000 [==============================] - 7s 118us/step - loss: 1.0613 - acc: 0.5886 - val_loss: 0.3781 - val_acc: 0.9318\n",
      "Epoch 8/10\n",
      "60000/60000 [==============================] - 7s 117us/step - loss: 1.0592 - acc: 0.5883 - val_loss: 0.3619 - val_acc: 0.9318\n",
      "Epoch 9/10\n",
      "60000/60000 [==============================] - 7s 115us/step - loss: 1.0493 - acc: 0.5930 - val_loss: 0.3565 - val_acc: 0.9389\n",
      "Epoch 10/10\n",
      "60000/60000 [==============================] - 7s 115us/step - loss: 1.0436 - acc: 0.5979 - val_loss: 0.3361 - val_acc: 0.9387\n",
      "Test loss: 0.33610640082359317\n",
      "Test accuracy: 0.9387\n"
     ]
    }
   ],
   "source": [
    "for batch_size, epoch_n, dropout in zip(batch_sizes, epochs, dropouts):\n",
    "        mlflow.start_run()\n",
    "        # architecture definition\n",
    "        model = Sequential()\n",
    "        model.add(Conv2D(filters=2, kernel_size=(3, 3), activation='relu', input_shape=input_shape))\n",
    "        model.add(Conv2D(filters=4, kernel_size=(3, 3), activation='relu'))\n",
    "        model.add(MaxPooling2D(pool_size=(2, 2)))\n",
    "        model.add(Dropout(dropout))\n",
    "        model.add(Flatten())\n",
    "        model.add(Dense(10, activation='relu'))\n",
    "        model.add(Dropout(dropout))\n",
    "        model.add(Dense(num_classes, activation='softmax'))\n",
    "\n",
    "        # compile model\n",
    "        model.compile(loss=keras.losses.categorical_crossentropy,\n",
    "                  optimizer=keras.optimizers.Adadelta(),\n",
    "                  metrics=['accuracy'])\n",
    "\n",
    "        # train model \n",
    "        model.fit(x_train, y_train,\n",
    "              batch_size=batch_size,\n",
    "              epochs=epoch_n,\n",
    "              verbose=1,\n",
    "              validation_data=(x_test, y_test))\n",
    "\n",
    "        # test model\n",
    "        score = model.evaluate(x_test, y_test, verbose=0)\n",
    "        print('Test loss:', score[0])\n",
    "        print('Test accuracy:', score[1])\n",
    "\n",
    "        # log model params and metrics\n",
    "        mlflow.log_param(\"batch_size\", batch_size)\n",
    "        mlflow.log_param(\"n_epochs\", epoch_n)\n",
    "        mlflow.log_metric(\"test_accuracy\",  score[1])\n",
    "        mlflow.log_metric(\"test_loss\",      score[0])\n",
    "        mlflow.end_run()"
   ]
  }
 ],
 "metadata": {
  "kernelspec": {
   "display_name": "Python 3",
   "language": "python",
   "name": "python3"
  },
  "language_info": {
   "codemirror_mode": {
    "name": "ipython",
    "version": 3
   },
   "file_extension": ".py",
   "mimetype": "text/x-python",
   "name": "python",
   "nbconvert_exporter": "python",
   "pygments_lexer": "ipython3",
   "version": "3.5.2"
  }
 },
 "nbformat": 4,
 "nbformat_minor": 2
}
